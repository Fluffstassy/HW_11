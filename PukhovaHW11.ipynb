{
  "nbformat": 4,
  "nbformat_minor": 0,
  "metadata": {
    "colab": {
      "provenance": [],
      "collapsed_sections": [],
      "authorship_tag": "ABX9TyOXL1Q4drfdEvHYy99Ws4bt",
      "include_colab_link": true
    },
    "kernelspec": {
      "name": "python3",
      "display_name": "Python 3"
    },
    "language_info": {
      "name": "python"
    }
  },
  "cells": [
    {
      "cell_type": "markdown",
      "metadata": {
        "id": "view-in-github",
        "colab_type": "text"
      },
      "source": [
        "<a href=\"https://colab.research.google.com/github/Fluffstassy/HW_11/blob/main/PukhovaHW11.ipynb\" target=\"_parent\"><img src=\"https://colab.research.google.com/assets/colab-badge.svg\" alt=\"Open In Colab\"/></a>"
      ]
    },
    {
      "cell_type": "markdown",
      "source": [
        "# Домашнее задание «Функции и работа с данными»"
      ],
      "metadata": {
        "id": "VluI9lsHHaAs"
      }
    },
    {
      "cell_type": "markdown",
      "source": [
        "# Задание 1\n",
        "Напишите функцию, которая классифицирует фильмы из материалов занятия по следующим правилам:\n",
        "- оценка 2 и меньше - низкий рейтинг\n",
        "- оценка 4 и меньше - средний рейтинг\n",
        "- оценка 4.5 и 5 - высокий рейтинг\n",
        "\n",
        "Результат классификации запишите в столбец class"
      ],
      "metadata": {
        "id": "QGKORzrmMdvj"
      }
    },
    {
      "cell_type": "code",
      "execution_count": null,
      "metadata": {
        "id": "oJiSmAggMZxe"
      },
      "outputs": [],
      "source": [
        "import pandas as pd\n",
        "\n",
        "raiting = pd.read_csv('ratings.csv')\n",
        "def grades_movies(row):\n",
        "    if row['rating'] <= 2.0:\n",
        "        return 'низкий'\n",
        "    elif 2.0 < row['rating'] <= 4.0:\n",
        "        return 'средний'\n",
        "    else:\n",
        "        return 'высокий'\n",
        "raiting['grades'] = raiting.apply(grades_movies, axis = 1)\n",
        "raiting.head()"
      ]
    },
    {
      "cell_type": "markdown",
      "source": [
        "# Задание 2\n",
        "Используем файл keywords.csv.\n",
        "\n",
        "Необходимо написать гео-классификатор, который каждой строке сможет выставить географическую принадлежность определенному региону. Т. е. если поисковый запрос содержит название города региона, то в столбце ‘region’ пишется название этого региона. Если поисковый запрос не содержит названия города, то ставим ‘undefined’.\n",
        "\n",
        "Правила распределения по регионам Центр, Северо-Запад и Дальний Восток:\n",
        "\n",
        "geo_data = {\n",
        "\n",
        "1\n",
        "2\n",
        "3\n",
        "4\n",
        "5\n",
        "'Центр': ['москва', 'тула', 'ярославль'],\n",
        "\n",
        "'Северо-Запад': ['петербург', 'псков', 'мурманск'],\n",
        "\n",
        "'Дальний Восток': ['владивосток', 'сахалин', 'хабаровск']\n",
        "}\n",
        "\n",
        "Результат классификации запишите в отдельный столбец region."
      ],
      "metadata": {
        "id": "vFYibqCUMjW6"
      }
    },
    {
      "cell_type": "code",
      "source": [
        "import pandas as pd\n",
        "\n",
        "keywords = pd.read_csv('keywords.csv')\n",
        "geo_data = {\n",
        "    'Центр': ['москва', 'тула', 'ярославль'],\n",
        "    'Северо-Запад': ['петербург', 'псков', 'мурманск'],\n",
        "    'Дальний Восток': ['владивосток', 'сахалин', 'хабаровск']\n",
        "}\n",
        "def region(row):\n",
        "    data = row['keyword'].split(' ')\n",
        "    i = 0\n",
        "    for word in data:\n",
        "        if word in towns:\n",
        "            for items in geo_data.items():\n",
        "                if word in items[1]:\n",
        "                    i += 1\n",
        "                    return items[0]\n",
        "    if i == 0:\n",
        "        return 'undefined'\n",
        "keywords['region'] = keywords.apply(region, axis = 1)\n",
        "keywords.head()"
      ],
      "metadata": {
        "id": "iQDia2oKMjia"
      },
      "execution_count": null,
      "outputs": []
    },
    {
      "cell_type": "code",
      "source": [
        "keywords[(keywords['region']!='undefined')]"
      ],
      "metadata": {
        "id": "_n2tOMy5S1UN"
      },
      "execution_count": null,
      "outputs": []
    }
  ]
}